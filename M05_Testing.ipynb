{
 "cells": [
  {
   "cell_type": "code",
   "execution_count": null,
   "id": "e3e2acf6-d6b0-493c-b0bd-96a0a28325e8",
   "metadata": {},
   "outputs": [],
   "source": [
    "def sum(arg):\n",
    "    total = 0\n",
    "    for val in arg:\n",
    "        total += val\n",
    "    return total"
   ]
  },
  {
   "cell_type": "code",
   "execution_count": null,
   "id": "cd9ea152-a953-49be-b273-2cdba98a8bc7",
   "metadata": {},
   "outputs": [],
   "source": [
    "import unittest\n",
    "from fractions import Fraction\n",
    "\n",
    "from my_sum import sum\n",
    "\n",
    "class TestSum(unittest.TestCase):\n",
    "    def test_list_init(self):\n",
    "        \"\"\"\n",
    "        Test that it can sum a list of integers\n",
    "        \"\"\"\n",
    "        data = [1, 2, 3]\n",
    "        result = sum(data)\n",
    "        self.assertEqual(result, 6)\n",
    "\n",
    "    def test_list_fraction(self):\n",
    "        \"\"\"\n",
    "        Test that it can sum a list of fractions\n",
    "        \"\"\"\n",
    "        data = [Fraction(1, 4), Fraction(1, 4), Fraction(2, 5)]\n",
    "        result = sum(data)\n",
    "        self.assertEqual(result, 1)\n",
    "\n",
    "if __name__ == '__main__':\n",
    "    unittest.main()"
   ]
  },
  {
   "cell_type": "markdown",
   "id": "5665a6a9-27d0-45dd-98fe-63d7532cfb11",
   "metadata": {},
   "source": [
    "F.\r\n",
    "======================================================================\r\n",
    "FAIL: test_list_fraction (__main__.TestSum.test_list_fraction)\r\n",
    "Test that it can sum a list of fractions\r\n",
    "----------------------------------------------------------------------\r\n",
    "Traceback (most recent call last):\r\n",
    "  File \"c:\\Users\\lvwhi\\Downloads\\Ivy Tech\\SDEV 220\\project\\test.py\", line 21, in test_list_fraction\r\n",
    "    self.assertEqual(result, 1)\r\n",
    "AssertionError: Fraction(9, 10) != 1\r\n",
    "\r\n",
    "----------------------------------------------------------------------\r\n",
    "Ran 2 tests in 0.002s\r\n",
    "\r\n",
    "FAILED (failures=1)"
   ]
  },
  {
   "cell_type": "markdown",
   "id": "deaaf06b-f1a8-4bc2-821b-cc8f82a3382c",
   "metadata": {},
   "source": [
    "The tests mean that the first function test_list_init(self) works correctly, as the result is equal to 6, meaning the data was entered the right way. \n",
    "\n",
    "However the function for test_list_fraction(self) does not work, as the result is not equal to 1, instead it is equal to 9/10. Meaning that the data or test case would not work with the corresponding file"
   ]
  },
  {
   "cell_type": "code",
   "execution_count": null,
   "id": "b0dbec02-6c9c-40d5-8d8d-c72060332b67",
   "metadata": {},
   "outputs": [],
   "source": []
  }
 ],
 "metadata": {
  "kernelspec": {
   "display_name": "anaconda-panel-2023.05-py310",
   "language": "python",
   "name": "conda-env-anaconda-panel-2023.05-py310-py"
  },
  "language_info": {
   "codemirror_mode": {
    "name": "ipython",
    "version": 3
   },
   "file_extension": ".py",
   "mimetype": "text/x-python",
   "name": "python",
   "nbconvert_exporter": "python",
   "pygments_lexer": "ipython3",
   "version": "3.11.5"
  }
 },
 "nbformat": 4,
 "nbformat_minor": 5
}
